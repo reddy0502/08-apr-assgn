{
 "cells": [
  {
   "cell_type": "markdown",
   "id": "15e28568-3fcd-47b4-9aff-7c5eab154e47",
   "metadata": {},
   "source": [
    "1ans:\n",
    "\n",
    "In the case of predicting house prices using an SVM regression model, Mean Squared Error (MSE) would be the most appropriate regression metric to use. MSE measures the average of the squared differences between the predicted and actual house prices. It provides an indication of how well the model is able to fit the data and make accurate predictions. Additionally, MSE penalizes larger errors more heavily than smaller errors, which is useful for a high-stakes prediction task such as house price prediction."
   ]
  },
  {
   "cell_type": "markdown",
   "id": "be724023-ddb0-4972-b5ab-70ee912ff627",
   "metadata": {},
   "source": [
    "2ans:\n",
    "\n",
    "If your goal is to predict the actual price of a house as accurately as possible, Mean Squared Error (MSE) would be the more appropriate evaluation metric to use.\n",
    "\n",
    "MSE measures the average squared difference between the predicted and actual values. It is a widely used evaluation metric for regression problems and has the advantage of penalizing larger errors more severely, which is desirable for price prediction tasks.\n",
    "\n",
    "On the other hand, R-squared measures the proportion of variance in the target variable that is explained by the model. While R-squared can be a useful metric for understanding the overall goodness-of-fit of the model, it does not directly measure the accuracy of the predictions"
   ]
  },
  {
   "cell_type": "markdown",
   "id": "65edf0c2-f03f-484b-96f1-6a2d3386aded",
   "metadata": {},
   "source": [
    "3ans:\n",
    "\n",
    "When dealing with a dataset that has a significant number of outliers, Mean Absolute Error (MAE) would be the most appropriate regression metric to use with an SVM model.\n",
    "\n",
    "MAE measures the average absolute difference between the predicted and actual values, without considering the direction of the difference. This makes it a robust metric that is less sensitive to outliers than Mean Squared Error (MSE), which squares the differences and can be heavily influenced by extreme values.\n",
    "\n",
    "Using MAE as the evaluation metric for your SVM model can help ensure that the model is not overly influenced by the outliers and is performing well across the entire range of the target variable"
   ]
  },
  {
   "cell_type": "markdown",
   "id": "07589997-02d7-4f19-9906-f9edea866f55",
   "metadata": {},
   "source": [
    "4ans:\n"
   ]
  }
 ],
 "metadata": {
  "kernelspec": {
   "display_name": "Python 3 (ipykernel)",
   "language": "python",
   "name": "python3"
  },
  "language_info": {
   "codemirror_mode": {
    "name": "ipython",
    "version": 3
   },
   "file_extension": ".py",
   "mimetype": "text/x-python",
   "name": "python",
   "nbconvert_exporter": "python",
   "pygments_lexer": "ipython3",
   "version": "3.10.8"
  }
 },
 "nbformat": 4,
 "nbformat_minor": 5
}
